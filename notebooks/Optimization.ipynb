{
 "cells": [
  {
   "cell_type": "markdown",
   "metadata": {},
   "source": [
    "# Optimization - Portfolio"
   ]
  },
  {
   "cell_type": "code",
   "execution_count": null,
   "metadata": {},
   "outputs": [],
   "source": [
    "# Import necessary libraries\n",
    "import pandas as pd\n",
    "import numpy as np\n",
    "import yfinance as yf\n",
    "import matplotlib.pyplot as plt\n",
    "import statsmodels.api as sm\n",
    "from statsmodels.tsa.statespace.sarimax import SARIMAX\n",
    "from sklearn.preprocessing import MinMaxScaler\n",
    "from pmdarima import auto_arima\n",
    "from tensorflow.keras.models import Sequential\n",
    "from tensorflow.keras.layers import LSTM, Dense, Dropout"
   ]
  },
  {
   "cell_type": "code",
   "execution_count": null,
   "metadata": {},
   "outputs": [],
   "source": [
    "\n",
    "# Utility Functions - data_loader.py\n",
    "def fetch_stock_data(ticker, start='2015-01-01', end='2025-01-31'):\n",
    "    stock = yf.download(ticker, start=start, end=end)\n",
    "    stock.reset_index(inplace=True)\n",
    "    return stock\n",
    "\n",
    "# Utility Functions - data_preprocessing.py\n",
    "def preprocess_data(df):\n",
    "    df = df[['Close']].dropna()\n",
    "    df['Returns'] = df['Close'].pct_change().dropna()\n",
    "    scaler = MinMaxScaler()\n",
    "    df['Close_scaled'] = scaler.fit_transform(df[['Close']])\n",
    "    return df, scaler\n",
    "\n",
    "# Utility Functions - forecasting.py\n",
    "def train_arima(df):\n",
    "    model = auto_arima(df['Close'], seasonal=False, trace=True)\n",
    "    return model.fit(df['Close'])\n",
    "\n",
    "def train_sarima(df):\n",
    "    model = SARIMAX(df['Close'], order=(1, 1, 1), seasonal_order=(1, 1, 1, 12))\n",
    "    return model.fit()\n",
    "\n",
    "def train_lstm(df):\n",
    "    data = df['Close_scaled'].values.reshape(-1, 1)\n",
    "    X, y = [], []\n",
    "    for i in range(60, len(data)):\n",
    "        X.append(data[i-60:i])\n",
    "        y.append(data[i])\n",
    "    X, y = np.array(X), np.array(y)\n",
    "    \n",
    "    model = Sequential([\n",
    "        LSTM(50, return_sequences=True, input_shape=(X.shape[1], 1)),\n",
    "        Dropout(0.2),\n",
    "        LSTM(50, return_sequences=False),\n",
    "        Dropout(0.2),\n",
    "        Dense(1)\n",
    "    ])\n",
    "    model.compile(optimizer='adam', loss='mean_squared_error')\n",
    "    model.fit(X, y, epochs=10, batch_size=16)\n",
    "    return model\n",
    "\n",
    "# Utility Functions - optimization.py\n",
    "def compute_portfolio_metrics(preprocessed_data):\n",
    "    returns = pd.DataFrame({stock: preprocessed_data[stock]['Returns'] for stock in preprocessed_data}).dropna()\n",
    "    cov_matrix = returns.cov()\n",
    "    avg_returns = returns.mean()\n",
    "    weights = np.array([0.4, 0.3, 0.3])  # Initial allocation\n",
    "    portfolio_return = np.dot(weights, avg_returns)\n",
    "    portfolio_risk = np.sqrt(np.dot(weights.T, np.dot(cov_matrix, weights)))\n",
    "    sharpe_ratio = portfolio_return / portfolio_risk\n",
    "    return portfolio_return, portfolio_risk, sharpe_ratio\n",
    "\n",
    "# Main Execution\n",
    "if __name__ == \"__main__\":\n",
    "    stocks = ['TSLA', 'BND', 'SPY']\n",
    "    data = {stock: fetch_stock_data(stock) for stock in stocks}\n",
    "    preprocessed_data = {stock: preprocess_data(data[stock])[0] for stock in stocks}\n",
    "    scalers = {stock: preprocess_data(data[stock])[1] for stock in stocks}\n",
    "    \n",
    "    arima_models = {stock: train_arima(preprocessed_data[stock]) for stock in stocks}\n",
    "    sarima_models = {stock: train_sarima(preprocessed_data[stock]) for stock in stocks}\n",
    "    lstm_models = {stock: train_lstm(preprocessed_data[stock]) for stock in stocks}\n",
    "    \n",
    "    portfolio_return, portfolio_risk, sharpe_ratio = compute_portfolio_metrics(preprocessed_data)\n",
    "    print(f\"Portfolio Return: {portfolio_return:.2f}\")\n",
    "    print(f\"Portfolio Risk: {portfolio_risk:.2f}\")\n",
    "    print(f\"Sharpe Ratio: {sharpe_ratio:.2f}\")\n"
   ]
  },
  {
   "cell_type": "code",
   "execution_count": null,
   "metadata": {},
   "outputs": [],
   "source": []
  }
 ],
 "metadata": {
  "kernelspec": {
   "display_name": "myenv",
   "language": "python",
   "name": "python3"
  },
  "language_info": {
   "codemirror_mode": {
    "name": "ipython",
    "version": 3
   },
   "file_extension": ".py",
   "mimetype": "text/x-python",
   "name": "python",
   "nbconvert_exporter": "python",
   "pygments_lexer": "ipython3",
   "version": "3.12.6"
  }
 },
 "nbformat": 4,
 "nbformat_minor": 2
}
