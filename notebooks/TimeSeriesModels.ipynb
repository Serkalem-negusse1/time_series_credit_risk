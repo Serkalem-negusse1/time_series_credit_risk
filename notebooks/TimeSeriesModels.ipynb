{
 "cells": [
  {
   "cell_type": "markdown",
   "metadata": {},
   "source": []
  },
  {
   "cell_type": "code",
   "execution_count": null,
   "metadata": {
    "vscode": {
     "languageId": "plaintext"
    }
   },
   "outputs": [],
   "source": [
    "import pandas as pd\n",
    "import numpy as np\n",
    "import matplotlib.pyplot as plt\n",
    "import statsmodels.api as sm\n",
    "from statsmodels.tsa.arima.model import ARIMA\n",
    "from sklearn.metrics import mean_absolute_error, mean_squared_error\n",
    "\n",
    "# Load preprocessed data\n",
    "df = pd.read_csv(\"../results/preprocessed_data.csv\", parse_dates=True, index_col=0)\n",
    "\n",
    "# Use the TSLA column for time-series forecasting\n",
    "ts = df['TSLA']\n",
    "\n",
    "# Train-test split (80% train, 20% test)\n",
    "train_size = int(len(ts) * 0.8)\n",
    "train, test = ts[:train_size], ts[train_size:]\n",
    "\n",
    "# Fit ARIMA Model\n",
    "p, d, q = 5, 1, 2  # Adjust based on ACF/PACF analysis\n",
    "model = ARIMA(train, order=(p, d, q))\n",
    "arima_model = model.fit()\n",
    "\n",
    "# Forecasting\n",
    "forecast = arima_model.forecast(steps=len(test))\n",
    "forecast.index = test.index\n",
    "\n",
    "# Model evaluation\n",
    "mae = mean_absolute_error(test, forecast)\n",
    "mse = mean_squared_error(test, forecast)\n",
    "\n",
    "print(f\"ARIMA Model - MAE: {mae}, MSE: {mse}\")\n",
    "\n",
    "# Plot Actual vs Predicted\n",
    "plt.figure(figsize=(12, 6))\n",
    "plt.plot(train.index, train, label=\"Training Data\", color=\"blue\")\n",
    "plt.plot(test.index, test, label=\"Actual Prices\", color=\"green\")\n",
    "plt.plot(forecast.index, forecast, label=\"ARIMA Forecast\", color=\"red\", linestyle=\"dashed\")\n",
    "plt.legend()\n",
    "plt.title(\"ARIMA Model - Actual vs Forecasted TSLA Prices\")\n",
    "plt.xlabel(\"Date\")\n",
    "plt.ylabel(\"Normalized Price\")\n",
    "plt.grid()\n",
    "plt.show()\n"
   ]
  }
 ],
 "metadata": {
  "language_info": {
   "name": "python"
  }
 },
 "nbformat": 4,
 "nbformat_minor": 2
}
