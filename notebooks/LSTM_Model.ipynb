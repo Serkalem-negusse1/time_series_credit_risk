{
 "cells": [
  {
   "cell_type": "markdown",
   "metadata": {},
   "source": []
  },
  {
   "cell_type": "code",
   "execution_count": null,
   "metadata": {
    "vscode": {
     "languageId": "plaintext"
    }
   },
   "outputs": [],
   "source": [
    "import pandas as pd\n",
    "import numpy as np\n",
    "import tensorflow as tf\n",
    "from tensorflow.keras.models import Sequential\n",
    "from tensorflow.keras.layers import LSTM, Dense\n",
    "from sklearn.preprocessing import MinMaxScaler\n",
    "\n",
    "# Load data\n",
    "df = pd.read_csv(\"../results/preprocessed_data.csv\", parse_dates=True, index_col=0)\n",
    "\n",
    "# Scale the data\n",
    "scaler = MinMaxScaler()\n",
    "df_scaled = scaler.fit_transform(df[['TSLA']])\n",
    "\n",
    "# Create sequences for LSTM\n",
    "def create_sequences(data, seq_length=10):\n",
    "    X, y = [], []\n",
    "    for i in range(len(data) - seq_length):\n",
    "        X.append(data[i : i + seq_length])\n",
    "        y.append(data[i + seq_length])\n",
    "    return np.array(X), np.array(y)\n",
    "\n",
    "seq_length = 10\n",
    "X, y = create_sequences(df_scaled, seq_length)\n",
    "\n",
    "# Train-test split\n",
    "train_size = int(len(X) * 0.8)\n",
    "X_train, X_test = X[:train_size], X[train_size:]\n",
    "y_train, y_test = y[:train_size], y[train_size:]\n",
    "\n",
    "# Build LSTM Model\n",
    "model = Sequential([\n",
    "    LSTM(50, activation=\"relu\", return_sequences=True, input_shape=(seq_length, 1)),\n",
    "    LSTM(50, activation=\"relu\"),\n",
    "    Dense(1)\n",
    "])\n",
    "\n",
    "model.compile(optimizer=\"adam\", loss=\"mse\")\n",
    "model.fit(X_train, y_train, epochs=20, batch_size=16, verbose=1)\n",
    "\n",
    "# Make Predictions\n",
    "y_pred = model.predict(X_test)\n",
    "y_pred_rescaled = scaler.inverse_transform(y_pred)\n",
    "\n",
    "# Save Predictions\n",
    "predictions_df = pd.DataFrame({\"Actual\": scaler.inverse_transform(y_test.reshape(-1, 1)).flatten(),\n",
    "                               \"Predicted\": y_pred_rescaled.flatten()})\n",
    "predictions_df.to_csv(\"../results/lstm_predictions.csv\", index=False)\n",
    "\n",
    "# Plot Results\n",
    "import matplotlib.pyplot as plt\n",
    "plt.figure(figsize=(12, 6))\n",
    "plt.plot(predictions_df.index, predictions_df[\"Actual\"], label=\"Actual\", color=\"blue\")\n",
    "plt.plot(predictions_df.index, predictions_df[\"Predicted\"], label=\"LSTM Prediction\", color=\"red\", linestyle=\"dashed\")\n",
    "plt.legend()\n",
    "plt.title(\"LSTM Model - Actual vs Predicted TSLA Prices\")\n",
    "plt.xlabel(\"Time Step\")\n",
    "plt.ylabel(\"Stock Price\")\n",
    "plt.grid()\n",
    "plt.show()\n"
   ]
  }
 ],
 "metadata": {
  "language_info": {
   "name": "python"
  }
 },
 "nbformat": 4,
 "nbformat_minor": 2
}
