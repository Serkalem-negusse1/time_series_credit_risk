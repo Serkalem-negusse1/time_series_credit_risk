{
 "cells": [
  {
   "cell_type": "markdown",
   "metadata": {},
   "source": []
  },
  {
   "cell_type": "code",
   "execution_count": null,
   "metadata": {
    "vscode": {
     "languageId": "plaintext"
    }
   },
   "outputs": [],
   "source": [
    "import pandas as pd\n",
    "import matplotlib.pyplot as plt\n",
    "import seaborn as sns\n",
    "\n",
    "# Load actual vs predicted data\n",
    "df_actual = pd.read_csv(\"../results/preprocessed_data.csv\", parse_dates=True, index_col=0)\n",
    "df_pred = pd.read_csv(\"../results/predictions.csv\", parse_dates=True, index_col=0)\n",
    "\n",
    "# Plot actual vs predicted TSLA stock prices\n",
    "plt.figure(figsize=(12, 6))\n",
    "plt.plot(df_actual.index, df_actual[\"TSLA\"], label=\"Actual TSLA\", color=\"blue\")\n",
    "plt.plot(df_pred.index, df_pred[\"TSLA_Predicted\"], label=\"Predicted TSLA\", color=\"red\", linestyle=\"dashed\")\n",
    "plt.legend()\n",
    "plt.title(\"Actual vs. Predicted TSLA Stock Prices\")\n",
    "plt.xlabel(\"Date\")\n",
    "plt.ylabel(\"Normalized Price\")\n",
    "plt.grid()\n",
    "plt.show()\n",
    "\n",
    "# Correlation heatmap\n",
    "plt.figure(figsize=(10, 6))\n",
    "sns.heatmap(df_actual.corr(), annot=True, cmap=\"coolwarm\", fmt=\".2f\")\n",
    "plt.title(\"Feature Correlation Matrix\")\n",
    "plt.show()\n"
   ]
  }
 ],
 "metadata": {
  "language_info": {
   "name": "python"
  }
 },
 "nbformat": 4,
 "nbformat_minor": 2
}
