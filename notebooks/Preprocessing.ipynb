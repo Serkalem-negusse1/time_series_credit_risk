{
 "cells": [
  {
   "cell_type": "markdown",
   "metadata": {},
   "source": []
  },
  {
   "cell_type": "code",
   "execution_count": null,
   "metadata": {
    "vscode": {
     "languageId": "plaintext"
    }
   },
   "outputs": [],
   "source": [
    "import pandas as pd\n",
    "from sklearn.impute import SimpleImputer\n",
    "from sklearn.preprocessing import MinMaxScaler\n",
    "\n",
    "# Load dataset\n",
    "df = pd.read_csv(\"../results/financial_data.csv\", parse_dates=True, index_col=0)\n",
    "\n",
    "# Check missing values\n",
    "print(\"Missing Values:\\n\", df.isnull().sum())\n",
    "\n",
    "# Handle missing values using forward fill and mean imputation\n",
    "df.ffill(inplace=True)  # Forward fill for time-series consistency\n",
    "imputer = SimpleImputer(strategy=\"mean\")\n",
    "df[:] = imputer.fit_transform(df)\n",
    "\n",
    "# Normalize data using MinMaxScaler\n",
    "scaler = MinMaxScaler()\n",
    "df[:] = scaler.fit_transform(df)\n",
    "\n",
    "# Save preprocessed data\n",
    "df.to_csv(\"../results/preprocessed_data.csv\", index=True)\n",
    "\n",
    "# Display processed dataset\n",
    "display(df.head())\n"
   ]
  }
 ],
 "metadata": {
  "language_info": {
   "name": "python"
  }
 },
 "nbformat": 4,
 "nbformat_minor": 2
}
